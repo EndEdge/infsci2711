{
 "cells": [
  {
   "cell_type": "code",
   "execution_count": 52,
   "metadata": {},
   "outputs": [],
   "source": [
    "import pymongo\n",
    "from bson.code import Code\n",
    "from pymongo import MongoClient,GEO2D\n",
    "from bson.son import SON\n",
    "import pprint\n",
    "\n",
    "# connect to MongoDB\n",
    "client = MongoClient('localhost',27017)\n",
    "\n",
    "# get a database\n",
    "db= client['yelp']\n",
    "\n",
    "# get collections\n",
    "business_pit = db.business_pit\n",
    "business_pit_res = db.business_pit_res"
   ]
  },
  {
   "cell_type": "markdown",
   "metadata": {},
   "source": [
    "#### count the numbers of restaurant in each neighborhood and calculate the average rating of the restaurants in each neighborhood\n",
    "investors can determine in which neighborhood they can invest"
   ]
  },
  {
   "cell_type": "code",
   "execution_count": 75,
   "metadata": {},
   "outputs": [
    {
     "name": "stdout",
     "output_type": "stream",
     "text": [
      "{'_id': 'Polish Hill', 'aveStars': 4.5, 'countRes': 2}\n",
      "{'_id': 'Arlington', 'aveStars': 4.5, 'countRes': 1}\n",
      "{'_id': 'Homewood', 'aveStars': 4.333333333333333, 'countRes': 6}\n",
      "{'_id': 'Morningside', 'aveStars': 4.333333333333333, 'countRes': 3}\n",
      "{'_id': 'Homestead', 'aveStars': 4.25, 'countRes': 2}\n",
      "{'_id': 'Avalon', 'aveStars': 4.1, 'countRes': 5}\n",
      "{'_id': 'Highland Park', 'aveStars': 4.0, 'countRes': 12}\n",
      "{'_id': 'Hazelwood', 'aveStars': 4.0, 'countRes': 1}\n",
      "{'_id': 'Allentown', 'aveStars': 3.9444444444444446, 'countRes': 9}\n",
      "{'_id': 'Garfield', 'aveStars': 3.923076923076923, 'countRes': 13}\n",
      "{'_id': 'Strip District', 'aveStars': 3.892857142857143, 'countRes': 84}\n",
      "{'_id': 'Regent Square', 'aveStars': 3.8, 'countRes': 5}\n",
      "{'_id': 'Brookline', 'aveStars': 3.793103448275862, 'countRes': 29}\n",
      "{'_id': 'Lawrenceville', 'aveStars': 3.7650602409638556, 'countRes': 83}\n",
      "{'_id': 'Beechview', 'aveStars': 3.7142857142857144, 'countRes': 21}\n",
      "{'_id': 'Mt. Washington', 'aveStars': 3.6875, 'countRes': 16}\n",
      "{'_id': 'Friendship', 'aveStars': 3.6666666666666665, 'countRes': 3}\n",
      "{'_id': 'Mt. Oliver', 'aveStars': 3.6666666666666665, 'countRes': 3}\n",
      "{'_id': 'Sharpsburg', 'aveStars': 3.642857142857143, 'countRes': 7}\n",
      "{'_id': 'East Liberty', 'aveStars': 3.640625, 'countRes': 32}\n",
      "{'_id': 'Aspinwall', 'aveStars': 3.625, 'countRes': 12}\n",
      "{'_id': 'Brighton Heights', 'aveStars': 3.625, 'countRes': 8}\n",
      "{'_id': 'Troy Hill', 'aveStars': 3.625, 'countRes': 8}\n",
      "{'_id': 'Bloomfield', 'aveStars': 3.604651162790698, 'countRes': 86}\n",
      "{'_id': 'Shadyside', 'aveStars': 3.5698924731182795, 'countRes': 93}\n",
      "{'_id': 'North Side', 'aveStars': 3.553763440860215, 'countRes': 93}\n",
      "{'_id': 'The Hill District', 'aveStars': 3.5454545454545454, 'countRes': 22}\n",
      "{'_id': 'West End', 'aveStars': 3.5454545454545454, 'countRes': 22}\n",
      "{'_id': 'Oakland', 'aveStars': 3.5251572327044025, 'countRes': 159}\n",
      "{'_id': 'South Side', 'aveStars': 3.5236686390532546, 'countRes': 169}\n",
      "{'_id': 'Point Breeze', 'aveStars': 3.5, 'countRes': 8}\n",
      "{'_id': 'East Carnegie', 'aveStars': 3.5, 'countRes': 1}\n",
      "{'_id': 'South Side Slopes', 'aveStars': 3.5, 'countRes': 1}\n",
      "{'_id': 'Millvale', 'aveStars': 3.5, 'countRes': 1}\n",
      "{'_id': 'Squirrel Hill', 'aveStars': 3.485148514851485, 'countRes': 101}\n",
      "{'_id': 'Banksville', 'aveStars': 3.4583333333333335, 'countRes': 12}\n",
      "{'_id': 'Dormont', 'aveStars': 3.4375, 'countRes': 32}\n",
      "{'_id': 'Downtown', 'aveStars': 3.432862190812721, 'countRes': 283}\n",
      "{'_id': 'Larimer', 'aveStars': 3.4, 'countRes': 5}\n",
      "{'_id': '', 'aveStars': 3.382660687593423, 'countRes': 669}\n",
      "{'_id': 'Greenfield', 'aveStars': 3.3214285714285716, 'countRes': 14}\n",
      "{'_id': 'Carrick', 'aveStars': 3.3157894736842106, 'countRes': 19}\n",
      "{'_id': 'Duquesne Heights', 'aveStars': 3.25, 'countRes': 10}\n",
      "{'_id': 'Bellevue', 'aveStars': 3.25, 'countRes': 8}\n",
      "{'_id': 'Etna', 'aveStars': 3.25, 'countRes': 6}\n",
      "{'_id': 'Emsworth', 'aveStars': 3.25, 'countRes': 2}\n",
      "{'_id': 'Knoxville', 'aveStars': 3.25, 'countRes': 2}\n",
      "{'_id': 'Overbrook', 'aveStars': 3.125, 'countRes': 4}\n",
      "{'_id': 'Greentree', 'aveStars': 3.1176470588235294, 'countRes': 17}\n",
      "{'_id': 'Bon Air', 'aveStars': 3.0, 'countRes': 2}\n",
      "{'_id': 'Carnegie', 'aveStars': 3.0, 'countRes': 1}\n",
      "{'_id': 'West View', 'aveStars': 2.5, 'countRes': 1}\n",
      "{'_id': 'Observatory Hill', 'aveStars': 2.0, 'countRes': 1}\n"
     ]
    }
   ],
   "source": [
    "res = business_pit.aggregate([\n",
    "    {\"$match\":\n",
    "     {\"categories\":{\"$regex\":\"Restaurants\"}}\n",
    "     },\n",
    "    {\"$group\":\n",
    "     {\"_id\":\"$neighborhood\",\n",
    "      \"aveStars\":{\"$avg\":\"$stars\"},\n",
    "      \"countRes\":{\"$sum\":1}\n",
    "      }\n",
    "     },\n",
    "    {\"$sort\":{\"aveStars\":-1,\"countRes\":-1}}\n",
    "    ])\n",
    "for restaurant in res:\n",
    "    print(restaurant)"
   ]
  },
  {
   "cell_type": "markdown",
   "metadata": {},
   "source": [
    "#### calculate total numbers of restaurants of each category"
   ]
  },
  {
   "cell_type": "code",
   "execution_count": 54,
   "metadata": {},
   "outputs": [
    {
     "name": "stdout",
     "output_type": "stream",
     "text": [
      "{'_id': 'Restaurants', 'value': 2209.0}\n",
      "{'_id': 'Food', 'value': 424.0}\n",
      "{'_id': 'Nightlife', 'value': 412.0}\n",
      "{'_id': 'Bars', 'value': 407.0}\n",
      "{'_id': 'Pizza', 'value': 367.0}\n",
      "{'_id': 'American (Traditional)', 'value': 351.0}\n",
      "{'_id': 'Sandwiches', 'value': 331.0}\n",
      "{'_id': 'American (New)', 'value': 292.0}\n",
      "{'_id': 'Italian', 'value': 223.0}\n",
      "{'_id': 'Breakfast & Brunch', 'value': 178.0}\n",
      "{'_id': 'Fast Food', 'value': 172.0}\n",
      "{'_id': 'Burgers', 'value': 171.0}\n",
      "{'_id': 'Chinese', 'value': 136.0}\n",
      "{'_id': 'Mexican', 'value': 122.0}\n",
      "{'_id': 'Cafes', 'value': 119.0}\n",
      "{'_id': 'Salad', 'value': 110.0}\n",
      "{'_id': 'Coffee & Tea', 'value': 97.0}\n",
      "{'_id': 'Event Planning & Services', 'value': 97.0}\n",
      "{'_id': 'Seafood', 'value': 91.0}\n",
      "{'_id': 'Chicken Wings', 'value': 87.0}\n",
      "{'_id': 'Diners', 'value': 85.0}\n",
      "{'_id': 'Delis', 'value': 79.0}\n",
      "{'_id': 'Caterers', 'value': 72.0}\n",
      "{'_id': 'Sushi Bars', 'value': 72.0}\n",
      "{'_id': 'Japanese', 'value': 64.0}\n",
      "{'_id': 'Cocktail Bars', 'value': 61.0}\n",
      "{'_id': 'Mediterranean', 'value': 61.0}\n",
      "{'_id': 'Sports Bars', 'value': 58.0}\n",
      "{'_id': 'Thai', 'value': 56.0}\n",
      "{'_id': 'Barbeque', 'value': 54.0}\n"
     ]
    }
   ],
   "source": [
    "mapper = Code(\"\"\"\n",
    "              function(){\n",
    "                  this.categories.forEach(function(category){\n",
    "                      emit(category,1);\n",
    "                  });\n",
    "               }\n",
    "               \"\"\")\n",
    "reducer = Code(\"\"\"\n",
    "               function( key, values) {\n",
    "                   var total = 0;\n",
    "                   for (var i=0; i<values.length; i++) {\n",
    "                       total += values[i];\n",
    "                   }\n",
    "                   return total;\n",
    "                }\n",
    "                \"\"\")\n",
    "categories = db.business_pit_res.map_reduce(mapper,reducer,\"myresults\")\n",
    "\n",
    "for category in categories.find({}).sort(\"value\",-1).limit(30):\n",
    "    print (category)"
   ]
  },
  {
   "cell_type": "markdown",
   "metadata": {},
   "source": [
    "#### calculate the average ratings of different category\n",
    "#### (what category has the best average rating)\n",
    "only display the categories which count number is greater than 30"
   ]
  },
  {
   "cell_type": "code",
   "execution_count": 55,
   "metadata": {},
   "outputs": [
    {
     "name": "stdout",
     "output_type": "stream",
     "text": [
      "[{'_id': 'Food Trucks', 'aveStars': 4.142857142857143, 'count': 35},\n",
      " {'_id': 'Specialty Food', 'aveStars': 4.127906976744186, 'count': 43},\n",
      " {'_id': 'Mediterranean', 'aveStars': 4.040983606557377, 'count': 61},\n",
      " {'_id': 'Middle Eastern', 'aveStars': 4.013513513513513, 'count': 37},\n",
      " {'_id': 'Cafes', 'aveStars': 4.0, 'count': 119},\n",
      " {'_id': 'Coffee & Tea', 'aveStars': 3.9896907216494846, 'count': 97},\n",
      " {'_id': 'Delis', 'aveStars': 3.9240506329113924, 'count': 79},\n",
      " {'_id': 'Vegetarian', 'aveStars': 3.8863636363636362, 'count': 44},\n",
      " {'_id': 'Greek', 'aveStars': 3.878787878787879, 'count': 33},\n",
      " {'_id': 'Desserts', 'aveStars': 3.8333333333333335, 'count': 48},\n",
      " {'_id': 'Food', 'aveStars': 3.7841981132075473, 'count': 424},\n",
      " {'_id': 'Thai', 'aveStars': 3.767857142857143, 'count': 56},\n",
      " {'_id': 'Bakeries', 'aveStars': 3.72972972972973, 'count': 37},\n",
      " {'_id': 'Cocktail Bars', 'aveStars': 3.7295081967213113, 'count': 61},\n",
      " {'_id': 'Barbeque', 'aveStars': 3.7222222222222223, 'count': 54},\n",
      " {'_id': 'Hot Dogs', 'aveStars': 3.7, 'count': 35},\n",
      " {'_id': 'Caterers', 'aveStars': 3.673611111111111, 'count': 72},\n",
      " {'_id': 'Diners', 'aveStars': 3.6470588235294117, 'count': 85},\n",
      " {'_id': 'Lounges', 'aveStars': 3.6285714285714286, 'count': 35},\n",
      " {'_id': 'Event Planning & Services',\n",
      "  'aveStars': 3.6237113402061856,\n",
      "  'count': 97},\n",
      " {'_id': 'Pubs', 'aveStars': 3.6226415094339623, 'count': 53},\n",
      " {'_id': 'Wine Bars', 'aveStars': 3.611111111111111, 'count': 36},\n",
      " {'_id': 'Asian Fusion', 'aveStars': 3.605769230769231, 'count': 52},\n",
      " {'_id': 'Sushi Bars', 'aveStars': 3.6041666666666665, 'count': 72},\n",
      " {'_id': 'Soup', 'aveStars': 3.5789473684210527, 'count': 38},\n",
      " {'_id': 'Breakfast & Brunch', 'aveStars': 3.5646067415730336, 'count': 178},\n",
      " {'_id': 'Japanese', 'aveStars': 3.5625, 'count': 64},\n",
      " {'_id': 'Sandwiches', 'aveStars': 3.5604229607250755, 'count': 331},\n",
      " {'_id': 'Indian', 'aveStars': 3.554054054054054, 'count': 37},\n",
      " {'_id': 'Salad', 'aveStars': 3.5318181818181817, 'count': 110}]\n"
     ]
    }
   ],
   "source": [
    "pipeline = [\n",
    "    {\"$unwind\":\"$categories\"},\n",
    "    {\"$group\":{\"_id\":\"$categories\",\"count\":{\"$sum\":1},\"aveStars\":{\"$avg\":\"$stars\"}}},\n",
    "    {\"$match\":{\"count\":{\"$gt\":30}}},\n",
    "    {\"$sort\":SON([(\"aveStars\",-1),(\"count\",-1)])},\n",
    "    {\"$limit\":30}\n",
    "]\n",
    "pprint.pprint(list(db.business_pit_res.aggregate(pipeline)))"
   ]
  },
  {
   "cell_type": "code",
   "execution_count": 56,
   "metadata": {},
   "outputs": [
    {
     "data": {
      "text/plain": [
       "'loc_2d'"
      ]
     },
     "execution_count": 56,
     "metadata": {},
     "output_type": "execute_result"
    }
   ],
   "source": [
    "db.business_pit_res.create_index([(\"loc\", GEO2D)])"
   ]
  },
  {
   "cell_type": "markdown",
   "metadata": {},
   "source": [
    "#### show top 30 restaurant near hillman library([40.4426, -79.9542])"
   ]
  },
  {
   "cell_type": "code",
   "execution_count": 74,
   "metadata": {},
   "outputs": [
    {
     "name": "stdout",
     "output_type": "stream",
     "text": [
      "{'name': 'S&D Cafe', 'stars': 5.0}\n",
      "{'name': 'Boardwalk on Carson', 'stars': 5.0}\n",
      "{'name': 'Redhawk Coffee', 'stars': 5.0}\n",
      "{'name': 'The Garden Cafe', 'stars': 5.0}\n",
      "{'name': 'Heavenly Espresso', 'stars': 5.0}\n",
      "{'name': 'California Coffee Bar', 'stars': 5.0}\n",
      "{'name': 'Commonplace Coffee', 'stars': 5.0}\n",
      "{'name': \"Don's Diner\", 'stars': 5.0}\n",
      "{'name': \"Joey D's in the Park, RIDC\", 'stars': 5.0}\n",
      "{'name': 'Everyday Cafe', 'stars': 5.0}\n",
      "{'name': 'Edgar Tacos Stand', 'stars': 5.0}\n",
      "{'name': 'Tasty N Healthy', 'stars': 5.0}\n",
      "{'name': 'Perspolis Hookah Lounge', 'stars': 5.0}\n",
      "{'name': 'Sincerely Yogurt', 'stars': 5.0}\n",
      "{'name': \"Alfred's Deli & Market\", 'stars': 5.0}\n",
      "{'name': 'Sweet Basil and La Filipiniana', 'stars': 5.0}\n",
      "{'name': 'Schenley Park Visitors Center', 'stars': 5.0}\n",
      "{'name': 'Juice Up 412', 'stars': 5.0}\n",
      "{'name': 'Hoi Polloi: Coffeehouse and Vegetarian Cafe', 'stars': 5.0}\n",
      "{'name': \"Lunardi's Ristorante\", 'stars': 5.0}\n",
      "{'name': 'Azure Cafe & Grill', 'stars': 5.0}\n",
      "{'name': 'Pear and the Pickle, Cafe & Market', 'stars': 5.0}\n",
      "{'name': \"Pirollo's Delicatessen & Take-Out\", 'stars': 5.0}\n",
      "{'name': 'Newman & Marleys', 'stars': 5.0}\n",
      "{'name': 'Wings & a Prayer', 'stars': 5.0}\n",
      "{'name': 'North Shore Deli', 'stars': 5.0}\n",
      "{'name': 'Sunset Restaurant and Grill', 'stars': 5.0}\n",
      "{'name': 'Sojourn Catering & Deli', 'stars': 5.0}\n",
      "{'name': 'Groceria Merante', 'stars': 5.0}\n",
      "{'name': 'Espresso a Mano', 'stars': 5.0}\n"
     ]
    }
   ],
   "source": [
    "query = {\"coordinate\": {\"$geoWithin\": {\"$center\": [[40.4426, -79.9542], 3]}}}\n",
    "for restaurant in db.business_pit_res.find(query,{\"name\":1,\"stars\":1,\"_id\":0})\n",
    ".sort([(\"stars\",-1)]).limit(30):\n",
    "    print(restaurant)"
   ]
  },
  {
   "cell_type": "code",
   "execution_count": null,
   "metadata": {},
   "outputs": [],
   "source": []
  }
 ],
 "metadata": {
  "kernelspec": {
   "display_name": "Python 3",
   "language": "python",
   "name": "python3"
  },
  "language_info": {
   "codemirror_mode": {
    "name": "ipython",
    "version": 3
   },
   "file_extension": ".py",
   "mimetype": "text/x-python",
   "name": "python",
   "nbconvert_exporter": "python",
   "pygments_lexer": "ipython3",
   "version": "3.6.3"
  }
 },
 "nbformat": 4,
 "nbformat_minor": 2
}
